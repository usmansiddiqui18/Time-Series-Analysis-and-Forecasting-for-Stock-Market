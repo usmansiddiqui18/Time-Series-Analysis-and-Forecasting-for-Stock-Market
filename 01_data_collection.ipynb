{
  "cells": [
    {
      "cell_type": "markdown",
      "metadata": {},
      "source": [
        "# 01_data_collection\n",
        "\n",
        "Download and inspect raw stock market data. Use `yfinance` or upload CSVs."
      ]
    },
    {
      "cell_type": "code",
      "metadata": {},
      "source": [
        "# This is a starter cell. Add your code here\n"
      ]
    }
  ],
  "metadata": {
    "kernelspec": {
      "display_name": "Python 3",
      "language": "python",
      "name": "python3"
    },
    "language_info": {
      "name": "python"
    }
  },
  "nbformat": 4,
  "nbformat_minor": 5
}