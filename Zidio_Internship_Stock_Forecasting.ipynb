{
 "cells": [
  {
   "cell_type": "markdown",
   "id": "2857392f",
   "metadata": {},
   "source": [
    "\n",
    "# Zidio Internship Project: Time Series Stock Forecasting\n",
    "This Jupyter Notebook implements **time series forecasting** for TCS, Apple, Reliance, and Infosys stock prices using LSTM models. Each step is explained and includes outputs (plots, model accuracy) ready for report use.\n"
   ]
  },
  {
   "cell_type": "code",
   "execution_count": 1,
   "id": "6cb12fd3",
   "metadata": {
    "language_info": {
     "name": "polyglot-notebook"
    },
    "polyglot_notebook": {
     "kernelName": "csharp"
    }
   },
   "outputs": [
    {
     "ename": "",
     "evalue": "",
     "output_type": "error",
     "traceback": [
      "\u001b[1;31mThe Kernel crashed while executing code in the current cell or a previous cell. \n",
      "\u001b[1;31mPlease review the code in the cell(s) to identify a possible cause of the failure. \n",
      "\u001b[1;31mClick <a href='https://aka.ms/vscodeJupyterKernelCrash'>here</a> for more info. \n",
      "\u001b[1;31mView Jupyter <a href='command:jupyter.viewOutput'>log</a> for further details."
     ]
    }
   ],
   "source": [
    "\n",
    "# Import Libraries\n",
    "import pandas as pd\n",
    "import numpy as np\n",
    "import matplotlib.pyplot as plt\n",
    "import seaborn as sns\n",
    "from sklearn.preprocessing import MinMaxScaler\n",
    "from tensorflow.keras.models import Sequential\n",
    "from tensorflow.keras.layers import LSTM, Dense, Dropout\n",
    "from sklearn.metrics import mean_squared_error\n",
    "import yfinance as yf\n"
   ]
  },
  {
   "cell_type": "code",
   "execution_count": null,
   "id": "21aab515",
   "metadata": {
    "language_info": {
     "name": "polyglot-notebook"
    },
    "polyglot_notebook": {
     "kernelName": "csharp"
    }
   },
   "outputs": [],
   "source": [
    "\n",
    "# Load Stock Data\n",
    "stocks = ['TCS.NS', 'AAPL', 'RELIANCE.NS', 'INFY.NS']\n",
    "data = {stock: yf.download(stock, start='2015-01-01', end='2025-09-29') for stock in stocks}\n"
   ]
  },
  {
   "cell_type": "code",
   "execution_count": null,
   "id": "7691937a",
   "metadata": {
    "language_info": {
     "name": "polyglot-notebook"
    },
    "polyglot_notebook": {
     "kernelName": "csharp"
    }
   },
   "outputs": [],
   "source": [
    "\n",
    "# Exploratory Data Analysis (EDA)\n",
    "for stock in stocks:\n",
    "    plt.figure(figsize=(10,4))\n",
    "    plt.plot(data[stock]['Close'])\n",
    "    plt.title(f'{stock} Closing Price')\n",
    "    plt.xlabel('Date')\n",
    "    plt.ylabel('Close Price')\n",
    "    plt.show()\n"
   ]
  },
  {
   "cell_type": "code",
   "execution_count": null,
   "id": "7af3f59d",
   "metadata": {
    "language_info": {
     "name": "polyglot-notebook"
    },
    "polyglot_notebook": {
     "kernelName": "csharp"
    }
   },
   "outputs": [],
   "source": [
    "\n",
    "# Data Preprocessing: Scaling\n",
    "scalers = {}\n",
    "scaled_data = {}\n",
    "\n",
    "for stock in stocks:\n",
    "    scaler = MinMaxScaler(feature_range=(0,1))\n",
    "    scaled_data[stock] = scaler.fit_transform(data[stock]['Close'].values.reshape(-1,1))\n",
    "    scalers[stock] = scaler\n"
   ]
  },
  {
   "cell_type": "code",
   "execution_count": null,
   "id": "bff29e16",
   "metadata": {
    "language_info": {
     "name": "polyglot-notebook"
    },
    "polyglot_notebook": {
     "kernelName": "csharp"
    }
   },
   "outputs": [],
   "source": [
    "\n",
    "# Function to create dataset for LSTM\n",
    "def create_dataset(dataset, time_step=60):\n",
    "    X, y = [], []\n",
    "    for i in range(time_step, len(dataset)):\n",
    "        X.append(dataset[i-time_step:i, 0])\n",
    "        y.append(dataset[i,0])\n",
    "    return np.array(X), np.array(y)\n",
    "\n",
    "time_step = 60\n",
    "train_data = {}\n",
    "test_data = {}\n",
    "X_train = {}\n",
    "y_train = {}\n",
    "X_test = {}\n",
    "y_test = {}\n",
    "\n",
    "for stock in stocks:\n",
    "    dataset = scaled_data[stock]\n",
    "    training_size = int(len(dataset)*0.8)\n",
    "    train_data[stock] = dataset[:training_size]\n",
    "    test_data[stock] = dataset[training_size:]\n",
    "    \n",
    "    X_train[stock], y_train[stock] = create_dataset(train_data[stock], time_step)\n",
    "    X_test[stock], y_test[stock] = create_dataset(test_data[stock], time_step)\n",
    "    \n",
    "    X_train[stock] = X_train[stock].reshape(X_train[stock].shape[0], X_train[stock].shape[1], 1)\n",
    "    X_test[stock] = X_test[stock].reshape(X_test[stock].shape[0], X_test[stock].shape[1], 1)\n"
   ]
  },
  {
   "cell_type": "code",
   "execution_count": null,
   "id": "33aa80b2",
   "metadata": {
    "language_info": {
     "name": "polyglot-notebook"
    },
    "polyglot_notebook": {
     "kernelName": "csharp"
    }
   },
   "outputs": [],
   "source": [
    "\n",
    "# Build & Train LSTM Model\n",
    "models = {}\n",
    "\n",
    "for stock in stocks:\n",
    "    model = Sequential()\n",
    "    model.add(LSTM(50, return_sequences=True, input_shape=(time_step,1)))\n",
    "    model.add(LSTM(50))\n",
    "    model.add(Dense(1))\n",
    "    model.compile(loss='mean_squared_error', optimizer='adam')\n",
    "    \n",
    "    model.fit(X_train[stock], y_train[stock], epochs=10, batch_size=32, verbose=1)\n",
    "    models[stock] = model\n"
   ]
  },
  {
   "cell_type": "code",
   "execution_count": null,
   "id": "116db886",
   "metadata": {
    "language_info": {
     "name": "polyglot-notebook"
    },
    "polyglot_notebook": {
     "kernelName": "csharp"
    }
   },
   "outputs": [],
   "source": [
    "\n",
    "# Make Predictions\n",
    "predictions = {}\n",
    "for stock in stocks:\n",
    "    pred = models[stock].predict(X_test[stock])\n",
    "    pred = scalers[stock].inverse_transform(pred)\n",
    "    predictions[stock] = pred\n"
   ]
  },
  {
   "cell_type": "code",
   "execution_count": null,
   "id": "79903be2",
   "metadata": {
    "language_info": {
     "name": "polyglot-notebook"
    },
    "polyglot_notebook": {
     "kernelName": "csharp"
    }
   },
   "outputs": [],
   "source": [
    "\n",
    "# Plot Actual vs Predicted Prices\n",
    "for stock in stocks:\n",
    "    plt.figure(figsize=(10,4))\n",
    "    plt.plot(data[stock]['Close'][-len(predictions[stock]):], label='Actual')\n",
    "    plt.plot(predictions[stock], label='Predicted')\n",
    "    plt.title(f'{stock} Stock Price Prediction')\n",
    "    plt.xlabel('Time')\n",
    "    plt.ylabel('Price')\n",
    "    plt.legend()\n",
    "    plt.show()\n"
   ]
  },
  {
   "cell_type": "code",
   "execution_count": null,
   "id": "095bc68f",
   "metadata": {
    "language_info": {
     "name": "polyglot-notebook"
    },
    "polyglot_notebook": {
     "kernelName": "csharp"
    }
   },
   "outputs": [],
   "source": [
    "\n",
    "# Evaluate Model\n",
    "for stock in stocks:\n",
    "    rmse = np.sqrt(mean_squared_error(data[stock]['Close'][-len(predictions[stock]):], predictions[stock]))\n",
    "    print(f'{stock} RMSE: {rmse}')\n"
   ]
  }
 ],
 "metadata": {
  "kernelspec": {
   "display_name": "base",
   "language": "python",
   "name": "python3"
  },
  "language_info": {
   "codemirror_mode": {
    "name": "ipython",
    "version": 3
   },
   "file_extension": ".py",
   "mimetype": "text/x-python",
   "name": "python",
   "nbconvert_exporter": "python",
   "pygments_lexer": "ipython3",
   "version": "3.12.7"
  },
  "polyglot_notebook": {
   "kernelInfo": {
    "defaultKernelName": "csharp",
    "items": [
     {
      "aliases": [],
      "name": "csharp"
     }
    ]
   }
  }
 },
 "nbformat": 4,
 "nbformat_minor": 5
}
