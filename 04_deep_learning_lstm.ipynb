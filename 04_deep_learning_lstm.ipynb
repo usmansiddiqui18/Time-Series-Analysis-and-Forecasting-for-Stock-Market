{
  "cells": [
    {
      "cell_type": "markdown",
      "metadata": {},
      "source": [
        "# 04_deep_learning_lstm\n",
        "\n",
        "Prepare data for LSTM (windowing), build and train a Keras LSTM model."
      ]
    },
    {
      "cell_type": "code",
      "metadata": {},
      "source": [
        "# This is a starter cell. Add your code here\n"
      ]
    }
  ],
  "metadata": {
    "kernelspec": {
      "display_name": "Python 3",
      "language": "python",
      "name": "python3"
    },
    "language_info": {
      "name": "python"
    }
  },
  "nbformat": 4,
  "nbformat_minor": 5
}