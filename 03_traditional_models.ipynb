{
  "cells": [
    {
      "cell_type": "markdown",
      "metadata": {},
      "source": [
        "# 03_traditional_models\n",
        "\n",
        "Build ARIMA, SARIMA, and Prophet models. Evaluate with RMSE/MAPE."
      ]
    },
    {
      "cell_type": "code",
      "metadata": {},
      "source": [
        "# This is a starter cell. Add your code here\n"
      ]
    }
  ],
  "metadata": {
    "kernelspec": {
      "display_name": "Python 3",
      "language": "python",
      "name": "python3"
    },
    "language_info": {
      "name": "python"
    }
  },
  "nbformat": 4,
  "nbformat_minor": 5
}